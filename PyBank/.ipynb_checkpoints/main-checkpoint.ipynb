{
 "cells": [
  {
   "cell_type": "code",
   "execution_count": 33,
   "metadata": {},
   "outputs": [],
   "source": [
    "#import libraries\n",
    "from pathlib import Path\n",
    "import csv\n",
    "\n",
    "#set path\n",
    "budget_data_path = Path(\"../PyBank/budget_data.csv\")"
   ]
  },
  {
   "cell_type": "code",
   "execution_count": 34,
   "metadata": {},
   "outputs": [],
   "source": [
    "\n",
    "#initialize variables, lists\n",
    "count = 0\n",
    "pd_Total = []\n",
    "delta = 0\n",
    "minimum = 0\n",
    "maximum = 0\n",
    "max_date_key = 0\n",
    "max_date = 0\n",
    "min_date_key = 0\n",
    "min_date = 0\n",
    "key_list = []\n",
    "Total = 0"
   ]
  },
  {
   "cell_type": "code",
   "execution_count": 35,
   "metadata": {},
   "outputs": [],
   "source": [
    "#Convert each row into a dictionary so that you can asssociate the value of change with the date that it occurred.\n",
    "        \n",
    "\n",
    "#open csv file in read only\n",
    "with open(budget_data_path, 'r') as csvfile:\n",
    "    \n",
    "    #use csv.reader function and identify separations as comma delimited\n",
    "    csvreader = csv.reader(csvfile, delimiter = ',')\n",
    "    #Skip the first line, because that's the header and not the months\n",
    "    header = next(csvreader)\n",
    "\n",
    "    #Initialize/iterate each row in the csv reader:\n",
    "    for row in csvreader:\n",
    "        \n",
    "#FIND THE TOTAL NUMBER OF MONTHS\n",
    "    #count each row\n",
    "        count += 1\n",
    "        \n",
    "#FIND THE TOTAL SUM OF TRANSACTIONS\n",
    "    #Convert the second element in each row to an integer, and put those integers into a list named \"pd_Total (period total)\"\n",
    "        pd_Total.append(int(row[1]))\n",
    "        \n",
    "        #Take the sum of the integers in the list named pd_Total\n",
    "    Total = sum(pd_Total)         \n"
   ]
  },
  {
   "cell_type": "code",
   "execution_count": 36,
   "metadata": {},
   "outputs": [],
   "source": [
    "#open csv file in read only\n",
    "with open(budget_data_path, 'r') as csvfile:\n",
    "    \n",
    "    #use csv.reader function and identify separations as comma delimited\n",
    "    csvreader = csv.reader(csvfile, delimiter = ',')\n",
    "    #Skip the first line, because that's the header and not the months\n",
    "    header = next(csvreader) \n",
    "\n",
    "    #Initialize/iterate each row in the csv reader:\n",
    "    for row in csvreader:\n",
    "    \n",
    "#FIND THE MAXIMUM AND MINIMUM CHANGES\n",
    "    # Subtract every element from the element after it in list named pd_Total. \n",
    "        # initialize for loop through pd_Total. Subtract each element from the previous element.\n",
    "        for i in range(1,len(pd_Total)):\n",
    "            delta = int(pd_Total[i]) - int(pd_Total[i-1])\n",
    "    \n",
    "    #find and arrange minimum and maximum values\n",
    "            if minimum == 0:\n",
    "                minimum = delta\n",
    "            elif delta < minimum:\n",
    "                minimum = delta\n",
    "                min_date_key = pd_Total[i]\n",
    "            elif delta > maximum:\n",
    "                maximum = delta\n",
    "                max_date_key = pd_Total[i]\n",
    "\n",
    "#TAKE AVERAGE OF ALL OF THE VALUES\n",
    "    #take cumulative average\n",
    "        average = round((int(pd_Total[-1])-int(pd_Total[0]))/count, 2)\n",
    "        \n",
    "        \n",
    "        key_list.append(row)\n",
    "        "
   ]
  },
  {
   "cell_type": "code",
   "execution_count": 37,
   "metadata": {},
   "outputs": [],
   "source": [
    "for row in key_list:\n",
    "    if int(row[1]) == max_date_key:\n",
    "        max_date = row[0]\n",
    "    elif int(row[1]) == min_date_key:\n",
    "        min_date = row[0]"
   ]
  },
  {
   "cell_type": "code",
   "execution_count": 38,
   "metadata": {},
   "outputs": [
    {
     "name": "stdout",
     "output_type": "stream",
     "text": [
      "Financial Analysis\n",
      "-----------------\n",
      "The total number of months: 86.\n",
      "The total Profit/Losses: $38382578.\n",
      "The average change: $-2288.2.\n",
      "The maximum is $1926159, and occurred on Feb-2012\n",
      "The minimum is $-2196167, and occurred on Sep-2013\n"
     ]
    }
   ],
   "source": [
    "print(f\"Financial Analysis\")\n",
    "print(f\"-----------------\")\n",
    "print(f\"The total number of months: {count}.\") \n",
    "print(f\"The total Profit/Losses: ${Total}.\")\n",
    "print(f\"The average change: ${average}.\")\n",
    "print(f\"The maximum is ${maximum}, and occurred on {max_date}\")\n",
    "print(f\"The minimum is ${minimum}, and occurred on {min_date}\")\n"
   ]
  },
  {
   "cell_type": "code",
   "execution_count": 39,
   "metadata": {},
   "outputs": [],
   "source": [
    "output_path = Path(\"output.txt\")\n",
    "\n",
    "with open(output_path, 'w') as file:\n",
    "    file.write(f\"Financial Analysis \\n\")\n",
    "    file.write(f\"----------------- \\n\")\n",
    "    file.write(f\"The total number of months: {count}. \\n\")\n",
    "    file.write(f\"The total Profit/Losses: ${Total}. \\n\")\n",
    "    file.write(f\"The average change: ${average}. \\n\")\n",
    "    file.write(f\"The maximum is ${maximum}, and occurred on {max_date}. \\n\")\n",
    "    file.write(f\"The minimum is ${minimum}, and occurred on {min_date}. \\n\")"
   ]
  },
  {
   "cell_type": "code",
   "execution_count": 28,
   "metadata": {},
   "outputs": [],
   "source": [
    " "
   ]
  },
  {
   "cell_type": "code",
   "execution_count": null,
   "metadata": {},
   "outputs": [],
   "source": []
  }
 ],
 "metadata": {
  "kernelspec": {
   "display_name": "Python 3",
   "language": "python",
   "name": "python3"
  },
  "language_info": {
   "codemirror_mode": {
    "name": "ipython",
    "version": 3
   },
   "file_extension": ".py",
   "mimetype": "text/x-python",
   "name": "python",
   "nbconvert_exporter": "python",
   "pygments_lexer": "ipython3",
   "version": "3.7.4"
  }
 },
 "nbformat": 4,
 "nbformat_minor": 4
}
