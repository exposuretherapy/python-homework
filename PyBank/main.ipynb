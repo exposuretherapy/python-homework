{
 "cells": [
  {
   "cell_type": "code",
   "execution_count": 67,
   "metadata": {},
   "outputs": [],
   "source": [
    "#import libraries\n",
    "from pathlib import Path\n",
    "import csv\n",
    "\n",
    "#set path\n",
    "budget_data_path = Path(\"../PyBank/budget_data.csv\")"
   ]
  },
  {
   "cell_type": "code",
   "execution_count": 68,
   "metadata": {},
   "outputs": [],
   "source": [
    "\n",
    "#initialize variables, lists\n",
    "count = 0\n",
    "pd_Total = []\n",
    "delta = 0\n",
    "minimum = 0\n",
    "maximum = 0\n",
    "max_date_key = 0\n",
    "max_date = 0\n",
    "min_date_key = 0\n",
    "min_date = 0\n",
    "key_list = []\n",
    "val_list = []\n",
    "Total = 0\n",
    "money_dct={}"
   ]
  },
  {
   "cell_type": "code",
   "execution_count": 69,
   "metadata": {},
   "outputs": [],
   "source": [
    "#Convert each row into a dictionary so that you can asssociate the value of change with the date that it occurred.\n",
    "        \n",
    "\n",
    "#open csv file in read only\n",
    "with open(budget_data_path, 'r') as csvfile:\n",
    "    \n",
    "    #use csv.reader function and identify separations as comma delimited\n",
    "    csvreader = csv.reader(csvfile, delimiter = ',')\n",
    "    #Skip the first line, because that's the header and not the months\n",
    "    header = next(csvreader)\n",
    "\n",
    "    #Initialize/iterate each row in the csv reader:\n",
    "    for row in csvreader:\n",
    "        \n",
    "#FIND THE TOTAL NUMBER OF MONTHS\n",
    "    #count each row\n",
    "        count += 1\n",
    "        \n",
    "#FIND THE TOTAL SUM OF TRANSACTIONS\n",
    "    #Convert the second element in each row to an integer, and put those integers into a list named \"pd_Total (period total)\"\n",
    "        pd_Total.append(int(row[1]))\n",
    "        \n",
    "        #Take the sum of the integers in the list named pd_Total\n",
    "    Total = sum(pd_Total)         \n"
   ]
  },
  {
   "cell_type": "code",
   "execution_count": 70,
   "metadata": {},
   "outputs": [],
   "source": [
    "#open csv file in read only\n",
    "with open(budget_data_path, 'r') as csvfile:\n",
    "    \n",
    "    #use csv.reader function and identify separations as comma delimited\n",
    "    csvreader = csv.reader(csvfile, delimiter = ',')\n",
    "    #Skip the first line, because that's the header and not the months\n",
    "    header = next(csvreader) \n",
    "\n",
    "    #Initialize/iterate each row in the csv reader:\n",
    "    for row in csvreader:\n",
    "    \n",
    "#FIND THE MAXIMUM AND MINIMUM CHANGES\n",
    "    # Subtract every element from the element after it in list named pd_Total. \n",
    "        # initialize for loop through pd_Total. Subtract each element from the previous element.\n",
    "        for i in range(1,len(pd_Total)):\n",
    "            delta = int(pd_Total[i]) - int(pd_Total[i-1])\n",
    "    \n",
    "    #find and arrange minimum and maximum values\n",
    "            if minimum == 0:\n",
    "                minimum = delta\n",
    "            elif delta < minimum:\n",
    "                minimum = delta\n",
    "                min_date_key = pd_Total[i]\n",
    "            elif delta > maximum:\n",
    "                maximum = delta\n",
    "                max_date_key = pd_Total[i]\n",
    "\n",
    "#TAKE AVERAGE OF ALL OF THE VALUES\n",
    "    #take cumulative average\n",
    "        average = round((int(pd_Total[-1])-int(pd_Total[0]))/count, 2)\n",
    "        \n",
    "        \n",
    "        key_list.append(row)\n",
    "        "
   ]
  },
  {
   "cell_type": "code",
   "execution_count": 71,
   "metadata": {},
   "outputs": [
    {
     "name": "stdout",
     "output_type": "stream",
     "text": [
      "0\n",
      "1170593\n"
     ]
    },
    {
     "ename": "ValueError",
     "evalue": "'1170593' is not in list",
     "output_type": "error",
     "traceback": [
      "\u001b[1;31m---------------------------------------------------------------------------\u001b[0m",
      "\u001b[1;31mValueError\u001b[0m                                Traceback (most recent call last)",
      "\u001b[1;32m<ipython-input-71-14fdcc2447c4>\u001b[0m in \u001b[0;36m<module>\u001b[1;34m\u001b[0m\n\u001b[0;32m      7\u001b[0m \u001b[0mprint\u001b[0m\u001b[1;33m(\u001b[0m\u001b[0mmax_date_key\u001b[0m\u001b[1;33m)\u001b[0m\u001b[1;33m\u001b[0m\u001b[1;33m\u001b[0m\u001b[0m\n\u001b[0;32m      8\u001b[0m \u001b[1;31m# print(key_list)\u001b[0m\u001b[1;33m\u001b[0m\u001b[1;33m\u001b[0m\u001b[1;33m\u001b[0m\u001b[0m\n\u001b[1;32m----> 9\u001b[1;33m \u001b[0mprint\u001b[0m\u001b[1;33m(\u001b[0m\u001b[0mkey_list\u001b[0m\u001b[1;33m.\u001b[0m\u001b[0mindex\u001b[0m\u001b[1;33m(\u001b[0m\u001b[0mstr\u001b[0m\u001b[1;33m(\u001b[0m\u001b[0mmax_date_key\u001b[0m\u001b[1;33m)\u001b[0m\u001b[1;33m)\u001b[0m\u001b[1;33m)\u001b[0m\u001b[1;33m\u001b[0m\u001b[1;33m\u001b[0m\u001b[0m\n\u001b[0m",
      "\u001b[1;31mValueError\u001b[0m: '1170593' is not in list"
     ]
    }
   ],
   "source": [
    "# print(f\"The total number of months is {count}.\") \n",
    "# print(f\"The total amount of Profit/Losses over the entire period is ${Total}.\")\n",
    "# print(f\"The average change over the period of time is ${average}.\")\n",
    "# print(f\"Maximum: {maximum}\")\n",
    "# print(f\"The maximum is, ${maximum} and occurred on {max_date}\")\n",
    "print(max_date)\n",
    "print(max_date_key)\n",
    "# print(key_list)\n",
    "print(key_list.index(str(max_date_key)))"
   ]
  },
  {
   "cell_type": "code",
   "execution_count": null,
   "metadata": {},
   "outputs": [],
   "source": []
  },
  {
   "cell_type": "code",
   "execution_count": null,
   "metadata": {},
   "outputs": [],
   "source": [
    "        #key_list = []\n",
    "        #val_list = []\n",
    "        #def Convert(row):\n",
    "        #    money_dct = {row[i]: row[i+1] for i in range (0, len(row), 2)}\n",
    "        #    return money_dct\n",
    "        #    key_list = list(money_dct.keys())\n",
    "        #    val_list = list(money_dct.values())\n",
    "        #    return (key_list)\n",
    "        #    return (val_list)\n",
    "        #Convert(row)\n",
    "        \n",
    "           # print(f\"The maximum is ${maximum} and occured on {row[0]}\")\n",
    "#DESCRIBE THE RANGE OF THE MAXIMUM AND MINUMUM\n",
    "#        for row in csvreader:\n",
    "#            if row[1] == maximum:\n",
    "#                print(f\"The maximum is is ${Maximum} and occurred on {row[0]}\")\n",
    "\n",
    "#ESTABLISH THE TIME THAT EACH MIN AND MAX OCCUR        \n",
    "    #Define a function that converts each row into a dictionary. take each \n",
    "# def slam(row):\n",
    "#     money_dct[row[1]] = row[0]\n",
    "#     print(row)\n",
    "#     money_dct = {row[1]: row[0]}\n",
    "#     if row[1] == max_date_key:\n",
    "#         row[0] = max_date\n",
    "#     elif row[1] == min_date_key:\n",
    "#         row[0] = max_date\n",
    "#     key_list.append(money_dct.keys())\n",
    "#     val_list.append(money_dct.values())\n",
    "#     return (money_dct)#, key_list, val_list)\n",
    "\n",
    "#         slam(row)"
   ]
  }
 ],
 "metadata": {
  "kernelspec": {
   "display_name": "Python 3",
   "language": "python",
   "name": "python3"
  },
  "language_info": {
   "codemirror_mode": {
    "name": "ipython",
    "version": 3
   },
   "file_extension": ".py",
   "mimetype": "text/x-python",
   "name": "python",
   "nbconvert_exporter": "python",
   "pygments_lexer": "ipython3",
   "version": "3.7.4"
  }
 },
 "nbformat": 4,
 "nbformat_minor": 4
}
