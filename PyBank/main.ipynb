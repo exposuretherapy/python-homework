{
 "cells": [
  {
   "cell_type": "code",
   "execution_count": 1,
   "metadata": {},
   "outputs": [],
   "source": [
    "#import libraries\n",
    "from pathlib import Path\n",
    "import csv\n",
    "\n",
    "#set path\n",
    "budget_data_path = Path(\"../PyBank/budget_data.csv\")"
   ]
  },
  {
   "cell_type": "code",
   "execution_count": 2,
   "metadata": {},
   "outputs": [],
   "source": [
    "\n",
    "#initialize variables, lists\n",
    "count = 0\n",
    "pd_Total = []\n",
    "delta = 0\n",
    "minimum = 0\n",
    "maximum = 0\n",
    "max_date = 0\n",
    "min_date = 0\n",
    "key_list = []\n",
    "val_list = []"
   ]
  },
  {
   "cell_type": "code",
   "execution_count": 3,
   "metadata": {},
   "outputs": [],
   "source": [
    "#Convert each row into a dictionary so that you can asssociate the value of change with the date that it occurred.\n",
    "        \n",
    "def Convert(row):\n",
    "    money_dct = {row[i]: row[i+1] for i in range (0, len(row), 1)}\n",
    "    key_list = list(money_dct.keys())\n",
    "    val_list = list(money_dct.values())\n",
    "    return (money_dct, key_list, val_list)\n",
    "\n",
    "#open csv file in read only\n",
    "with open(budget_data_path, 'r') as csvfile:\n",
    "    \n",
    "    #use csv.reader function and identify separations as comma delimited\n",
    "    csvreader = csv.reader(csvfile, delimiter = ',')\n",
    "    #Skip the first line, because that's the header and not the months\n",
    "    header = next(csvreader)\n",
    "\n",
    "    #Initialize/iterate each row in the csv reader:\n",
    "    for row in csvreader:\n",
    "\n",
    "        Convert(row)\n",
    "        \n",
    "#FIND THE TOTAL NUMBER OF MONTHS\n",
    "    #count each row\n",
    "        count += 1\n",
    "        \n",
    "#FIND THE TOTAL SUM OF TRANSACTIONS\n",
    "    #Convert the second element in each row to an integer, and put those integers into a list named \"pd_Total (period total)\"\n",
    "        pd_Total.append(int(row[1]))\n",
    "        #Take the sum of the integers in the list named pd_Total\n",
    "        Total = sum(pd_Total)        \n",
    "\n",
    "#FIND THE MAXIMUM AND MINIMUM CHANGES\n",
    "    # Subtract every element from the element after it in list named pd_Total. \n",
    "        # initialize for loop through pd_Total. Subtract each element from the previous element.\n",
    "    for i in range(1,len(pd_Total)):\n",
    "        delta = int(pd_Total[i]) - int(pd_Total[i-1])\n",
    "    \n",
    "    #find and arrange minimum and maximum values\n",
    "        if minimum == 0:\n",
    "            minimum = delta\n",
    "        elif delta < minimum:\n",
    "            minimum = delta\n",
    "            min_date = pd_Total[i]\n",
    "        elif delta > maximum:\n",
    "            maximum = delta\n",
    "            max_date = pd_Total[i]\n",
    "    \n",
    "#TAKE AVERAGE OF ALL OF THE VALUES\n",
    "    #take cumulative average\n",
    "        average = round((int(pd_Total[-1])-int(pd_Total[0]))/count, 2)\n",
    "        "
   ]
  },
  {
   "cell_type": "code",
   "execution_count": 4,
   "metadata": {},
   "outputs": [
    {
     "name": "stdout",
     "output_type": "stream",
     "text": [
      "The total number of months is 86.\n",
      "The total amount of Profit/Losses over the entire period is $38382578.\n",
      "The average change over the period of time is $-2288.2.\n",
      "Maximum: 1926159\n",
      "[]\n",
      "[]\n"
     ]
    }
   ],
   "source": [
    "print(f\"The total number of months is {count}.\") \n",
    "print(f\"The total amount of Profit/Losses over the entire period is ${Total}.\")\n",
    "print(f\"The average change over the period of time is ${average}.\")\n",
    "        #print(Convert(row))\n",
    "print(f\"Maximum: {maximum}\")\n",
    "print(f\"{key_list}\")\n",
    "print(f\"{val_list}\")\n",
    "#print(f\"The maximum is {key_list[val_list.index({max_date})]}, ${maximum}\")\n",
    "#print(f\"The minimum is {key_list[val_list.index({minimum})]}, ${minimum}\")"
   ]
  },
  {
   "cell_type": "code",
   "execution_count": null,
   "metadata": {},
   "outputs": [],
   "source": []
  },
  {
   "cell_type": "code",
   "execution_count": null,
   "metadata": {},
   "outputs": [],
   "source": [
    "        #key_list = []\n",
    "        #val_list = []\n",
    "        #def Convert(row):\n",
    "        #    money_dct = {row[i]: row[i+1] for i in range (0, len(row), 2)}\n",
    "        #    return money_dct\n",
    "        #    key_list = list(money_dct.keys())\n",
    "        #    val_list = list(money_dct.values())\n",
    "        #    return (key_list)\n",
    "        #    return (val_list)\n",
    "        #Convert(row)\n",
    "        \n",
    "           # print(f\"The maximum is ${maximum} and occured on {row[0]}\")\n",
    "#DESCRIBE THE RANGE OF THE MAXIMUM AND MINUMUM\n",
    "#        for row in csvreader:\n",
    "#            if row[1] == maximum:\n",
    "#                print(f\"The maximum is is ${Maximum} and occurred on {row[0]}\")"
   ]
  }
 ],
 "metadata": {
  "kernelspec": {
   "display_name": "Python 3",
   "language": "python",
   "name": "python3"
  },
  "language_info": {
   "codemirror_mode": {
    "name": "ipython",
    "version": 3
   },
   "file_extension": ".py",
   "mimetype": "text/x-python",
   "name": "python",
   "nbconvert_exporter": "python",
   "pygments_lexer": "ipython3",
   "version": "3.7.4"
  }
 },
 "nbformat": 4,
 "nbformat_minor": 4
}
