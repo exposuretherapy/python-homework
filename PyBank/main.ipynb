{
 "cells": [
  {
   "cell_type": "code",
   "execution_count": 16,
   "metadata": {},
   "outputs": [],
   "source": [
    "#import libraries\n",
    "from pathlib import Path\n",
    "import csv\n",
    "\n",
    "#set path\n",
    "budget_data_path = Path(\"../PyBank/budget_data.csv\")"
   ]
  },
  {
   "cell_type": "code",
   "execution_count": 17,
   "metadata": {},
   "outputs": [],
   "source": [
    "\n",
    "#initialize variables, lists\n",
    "count = 0\n",
    "pd_Total = []\n",
    "delta = 0\n",
    "minimum = 0\n",
    "maximum = 0\n",
    "max_date_key = 0\n",
    "max_date = 0\n",
    "min_date_key = 0\n",
    "min_date = 0\n",
    "key_list = []\n",
    "val_list = []\n",
    "Total = 0\n",
    "money_dct={}"
   ]
  },
  {
   "cell_type": "code",
   "execution_count": 18,
   "metadata": {},
   "outputs": [],
   "source": [
    "#Convert each row into a dictionary so that you can asssociate the value of change with the date that it occurred.\n",
    "        \n",
    "\n",
    "#open csv file in read only\n",
    "with open(budget_data_path, 'r') as csvfile:\n",
    "    \n",
    "    #use csv.reader function and identify separations as comma delimited\n",
    "    csvreader = csv.reader(csvfile, delimiter = ',')\n",
    "    #Skip the first line, because that's the header and not the months\n",
    "    header = next(csvreader)\n",
    "\n",
    "    #Initialize/iterate each row in the csv reader:\n",
    "    for row in csvreader:\n",
    "        \n",
    "#FIND THE TOTAL NUMBER OF MONTHS\n",
    "    #count each row\n",
    "        count += 1\n",
    "        \n",
    "#FIND THE TOTAL SUM OF TRANSACTIONS\n",
    "    #Convert the second element in each row to an integer, and put those integers into a list named \"pd_Total (period total)\"\n",
    "        pd_Total.append(int(row[1]))\n",
    "        #Take the sum of the integers in the list named pd_Total\n",
    "    Total = sum(pd_Total)         \n"
   ]
  },
  {
   "cell_type": "code",
   "execution_count": 19,
   "metadata": {},
   "outputs": [],
   "source": [
    "#ESTABLISH THE TIME THAT EACH MIN AND MAX OCCUR        \n",
    "    #Define a function that converts each row into a dictionary. take each \n",
    "def Convert(row):\n",
    "    money_dct[row[1]] = row[0]\n",
    "#     print(row)\n",
    "#     money_dct = {row[1]: row[0]}\n",
    "#     if row[1] == max_date_key:\n",
    "#         row[0] = max_date\n",
    "#     elif row[1] == min_date_key:\n",
    "#         row[0] = max_date\n",
    "    #key_list.append(money_dct.keys())\n",
    "    #val_list.append(money_dct.values())\n",
    "    return (money_dct)#, key_list, val_list)\n",
    "\n",
    "#open csv file in read only\n",
    "with open(budget_data_path, 'r') as csvfile:\n",
    "    \n",
    "    #use csv.reader function and identify separations as comma delimited\n",
    "    csvreader = csv.reader(csvfile, delimiter = ',')\n",
    "    #Skip the first line, because that's the header and not the months\n",
    "    header = next(csvreader) \n",
    "\n",
    "    #Initialize/iterate each row in the csv reader:\n",
    "    for row in csvreader:\n",
    "    \n",
    "#FIND THE MAXIMUM AND MINIMUM CHANGES\n",
    "    # Subtract every element from the element after it in list named pd_Total. \n",
    "        # initialize for loop through pd_Total. Subtract each element from the previous element.\n",
    "        for i in range(1,len(pd_Total)):\n",
    "            delta = int(pd_Total[i]) - int(pd_Total[i-1])\n",
    "    \n",
    "    #find and arrange minimum and maximum values\n",
    "            if minimum == 0:\n",
    "                minimum = delta\n",
    "            elif delta < minimum:\n",
    "                minimum = delta\n",
    "                min_date_key = pd_Total[i]\n",
    "            elif delta > maximum:\n",
    "                maximum = delta\n",
    "                max_date_key = pd_Total[i]\n",
    "\n",
    "#TAKE AVERAGE OF ALL OF THE VALUES\n",
    "    #take cumulative average\n",
    "        average = round((int(pd_Total[-1])-int(pd_Total[0]))/count, 2)\n",
    "        \n",
    "        Convert(row)\n",
    "        \n",
    "\n",
    "    \n",
    "        "
   ]
  },
  {
   "cell_type": "code",
   "execution_count": 24,
   "metadata": {},
   "outputs": [
    {
     "name": "stdout",
     "output_type": "stream",
     "text": [
      "The total number of months is 86.\n",
      "The total amount of Profit/Losses over the entire period is $38382578.\n",
      "The average change over the period of time is $-2288.2.\n",
      "Maximum: 1926159\n",
      "<class 'int'>\n",
      "{'867884': 'Jan-2010', '984655': 'Feb-2010', '322013': 'Mar-2010', '-69417': 'Apr-2010', '310503': 'May-2010', '522857': 'Jun-2010', '1033096': 'Jul-2010', '604885': 'Aug-2010', '-216386': 'Sep-2010', '477532': 'Oct-2010', '893810': 'Nov-2010', '-80353': 'Dec-2010', '779806': 'Jan-2011', '-335203': 'Feb-2011', '697845': 'Mar-2011', '793163': 'Apr-2011', '485070': 'May-2011', '584122': 'Jun-2011', '62729': 'Jul-2011', '668179': 'Aug-2011', '899906': 'Sep-2011', '834719': 'Oct-2011', '132003': 'Nov-2011', '309978': 'Dec-2011', '-755566': 'Jan-2012', '1170593': 'Feb-2012', '252788': 'Mar-2012', '1151518': 'Apr-2012', '817256': 'May-2012', '570757': 'Jun-2012', '506702': 'Jul-2012', '-1022534': 'Aug-2012', '475062': 'Sep-2012', '779976': 'Oct-2012', '144175': 'Nov-2012', '542494': 'Dec-2012', '359333': 'Jan-2013', '321469': 'Feb-2013', '67780': 'Mar-2013', '471435': 'Apr-2013', '565603': 'May-2013', '872480': 'Jun-2013', '789480': 'Jul-2013', '999942': 'Aug-2013', '-1196225': 'Sep-2013', '268997': 'Oct-2013', '-687986': 'Nov-2013', '1150461': 'Dec-2013', '682458': 'Jan-2014', '617856': 'Feb-2014', '824098': 'Mar-2014', '581943': 'Apr-2014', '132864': 'May-2014', '448062': 'Jun-2014', '689161': 'Jul-2014', '800701': 'Aug-2014', '1166643': 'Sep-2014', '947333': 'Oct-2014', '578668': 'Nov-2014', '988505': 'Dec-2014', '1139715': 'Jan-2015', '1029471': 'Feb-2015', '687533': 'Mar-2015', '-524626': 'Apr-2015', '158620': 'May-2015', '87795': 'Jun-2015', '423389': 'Jul-2015', '840723': 'Aug-2015', '568529': 'Sep-2015', '332067': 'Oct-2015', '989499': 'Nov-2015', '778237': 'Dec-2015', '650000': 'Jan-2016', '-1100387': 'Feb-2016', '-174946': 'Mar-2016', '757143': 'Apr-2016', '445709': 'May-2016', '712961': 'Jun-2016', '-1163797': 'Jul-2016', '569899': 'Aug-2016', '768450': 'Sep-2016', '102685': 'Oct-2016', '795914': 'Nov-2016', '60988': 'Dec-2016', '138230': 'Jan-2017', '671099': 'Feb-2017'}\n"
     ]
    },
    {
     "ename": "KeyError",
     "evalue": "1170593",
     "output_type": "error",
     "traceback": [
      "\u001b[1;31m---------------------------------------------------------------------------\u001b[0m",
      "\u001b[1;31mKeyError\u001b[0m                                  Traceback (most recent call last)",
      "\u001b[1;32m<ipython-input-24-47c372327b3e>\u001b[0m in \u001b[0;36m<module>\u001b[1;34m\u001b[0m\n\u001b[0;32m      9\u001b[0m \u001b[1;31m#print(f\"{key_list}\")\u001b[0m\u001b[1;33m\u001b[0m\u001b[1;33m\u001b[0m\u001b[1;33m\u001b[0m\u001b[0m\n\u001b[0;32m     10\u001b[0m \u001b[1;31m#print(f\"{val_list}\")\u001b[0m\u001b[1;33m\u001b[0m\u001b[1;33m\u001b[0m\u001b[1;33m\u001b[0m\u001b[0m\n\u001b[1;32m---> 11\u001b[1;33m \u001b[0mprint\u001b[0m\u001b[1;33m(\u001b[0m\u001b[1;34mf\"The maximum is {money_dct[max_date_key]}, ${maximum}\"\u001b[0m\u001b[1;33m)\u001b[0m\u001b[1;33m\u001b[0m\u001b[1;33m\u001b[0m\u001b[0m\n\u001b[0m\u001b[0;32m     12\u001b[0m \u001b[1;31m#print(f\"The minimum is {key_list[val_list.index({minimum})]}, ${minimum}\")\u001b[0m\u001b[1;33m\u001b[0m\u001b[1;33m\u001b[0m\u001b[1;33m\u001b[0m\u001b[0m\n",
      "\u001b[1;31mKeyError\u001b[0m: 1170593"
     ]
    }
   ],
   "source": [
    "print(f\"The total number of months is {count}.\") \n",
    "print(f\"The total amount of Profit/Losses over the entire period is ${Total}.\")\n",
    "print(f\"The average change over the period of time is ${average}.\")\n",
    "        #print(Convert(row))\n",
    "print(f\"Maximum: {maximum}\")\n",
    "type((max_date_key))\n",
    "print(type(max_date_key))\n",
    "print(f\"{money_dct}\")\n",
    "#print(f\"{key_list}\")\n",
    "#print(f\"{val_list}\")\n",
    "print(f\"The maximum is {money_dct[max_date_key]}, ${maximum}\")\n",
    "#print(f\"The minimum is {key_list[val_list.index({minimum})]}, ${minimum}\")"
   ]
  },
  {
   "cell_type": "code",
   "execution_count": null,
   "metadata": {},
   "outputs": [],
   "source": []
  },
  {
   "cell_type": "code",
   "execution_count": null,
   "metadata": {},
   "outputs": [],
   "source": [
    "        #key_list = []\n",
    "        #val_list = []\n",
    "        #def Convert(row):\n",
    "        #    money_dct = {row[i]: row[i+1] for i in range (0, len(row), 2)}\n",
    "        #    return money_dct\n",
    "        #    key_list = list(money_dct.keys())\n",
    "        #    val_list = list(money_dct.values())\n",
    "        #    return (key_list)\n",
    "        #    return (val_list)\n",
    "        #Convert(row)\n",
    "        \n",
    "           # print(f\"The maximum is ${maximum} and occured on {row[0]}\")\n",
    "#DESCRIBE THE RANGE OF THE MAXIMUM AND MINUMUM\n",
    "#        for row in csvreader:\n",
    "#            if row[1] == maximum:\n",
    "#                print(f\"The maximum is is ${Maximum} and occurred on {row[0]}\")"
   ]
  }
 ],
 "metadata": {
  "kernelspec": {
   "display_name": "Python 3",
   "language": "python",
   "name": "python3"
  },
  "language_info": {
   "codemirror_mode": {
    "name": "ipython",
    "version": 3
   },
   "file_extension": ".py",
   "mimetype": "text/x-python",
   "name": "python",
   "nbconvert_exporter": "python",
   "pygments_lexer": "ipython3",
   "version": "3.7.4"
  }
 },
 "nbformat": 4,
 "nbformat_minor": 4
}
